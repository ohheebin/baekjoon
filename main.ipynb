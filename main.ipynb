{
 "cells": [
  {
   "cell_type": "code",
   "execution_count": 45,
   "metadata": {},
   "outputs": [
    {
     "name": "stdout",
     "output_type": "stream",
     "text": [
      "1\n",
      "0\n"
     ]
    }
   ],
   "source": [
    "n = int(input())\n",
    "x = 1\n",
    "first = -1\n",
    "second = 0\n",
    "check = 0\n",
    "count = 0\n",
    "\n",
    "for i in range(1,n+1):\n",
    "    x = x * i\n",
    "    \n",
    "for i in range(0,len(str(x))):\n",
    "    if first == -1 :\n",
    "        check = int(str(x)[-1:])\n",
    "    else :\n",
    "        check = int(str(x)[first:second])\n",
    "    first = first - 1\n",
    "    second = second - 1\n",
    "    \n",
    "    if check == 0 :\n",
    "        count = count + 1\n",
    "    else :\n",
    "        break\n",
    "print(count)"
   ]
  },
  {
   "cell_type": "markdown",
   "metadata": {},
   "source": [
    "2407 조합"
   ]
  },
  {
   "cell_type": "code",
   "execution_count": 61,
   "metadata": {},
   "outputs": [
    {
     "name": "stdout",
     "output_type": "stream",
     "text": [
      "5 2\n",
      "10\n"
     ]
    }
   ],
   "source": [
    "n , m = input().split(\" \")\n",
    "\n",
    "int_n = int(n)\n",
    "int_m = int(m)\n",
    "\n",
    "x = 1\n",
    "y = 1\n",
    "for i in range(1,int_m + 1):\n",
    "    x = x * int_n\n",
    "    y = y * i\n",
    "    int_n = int_n - 1\n",
    "    \n",
    "print(int(x//y))"
   ]
  },
  {
   "cell_type": "markdown",
   "metadata": {},
   "source": [
    "6591 이항 쇼다운"
   ]
  },
  {
   "cell_type": "code",
   "execution_count": 28,
   "metadata": {},
   "outputs": [
    {
     "name": "stdout",
     "output_type": "stream",
     "text": [
      "49 6\n",
      "13983816\n",
      "19999 19998\n",
      "19999\n",
      "1 1\n",
      "1\n",
      "4 4\n",
      "1\n",
      "494949 494949\n",
      "1\n",
      "1003 3\n",
      "167668501\n",
      "0 0\n"
     ]
    }
   ],
   "source": [
    "while True:\n",
    "    n , m = input().split(\" \")\n",
    "    if int(n) == 0 and int(m) == 0:\n",
    "        break\n",
    "    int_n = int(n)\n",
    "    int_m = int(m)\n",
    "    k = int_n - int_m\n",
    "    x = 1\n",
    "    y = 1\n",
    "    if int_n == int_m or int_m == 0:\n",
    "        print(1)\n",
    "    else :\n",
    "        if int_m > k:\n",
    "            for i in range(1,k+1):\n",
    "                x = x * int_n\n",
    "                y = y * i\n",
    "                int_n -= 1\n",
    "        else:\n",
    "            for i in range(1,int_m+1):\n",
    "                x = x * int_n\n",
    "                y = y * i\n",
    "                int_n -= 1\n",
    "        print(x//y)\n",
    "        "
   ]
  },
  {
   "cell_type": "code",
   "execution_count": 65,
   "metadata": {
    "scrolled": true
   },
   "outputs": [
    {
     "name": "stdout",
     "output_type": "stream",
     "text": [
      "4000000 2000000\n"
     ]
    },
    {
     "ename": "KeyboardInterrupt",
     "evalue": "",
     "output_type": "error",
     "traceback": [
      "\u001b[0;31m---------------------------------------------------------------------------\u001b[0m",
      "\u001b[0;31mKeyboardInterrupt\u001b[0m                         Traceback (most recent call last)",
      "\u001b[0;32m<ipython-input-65-10286530b08c>\u001b[0m in \u001b[0;36m<module>\u001b[0;34m()\u001b[0m\n\u001b[1;32m     19\u001b[0m             \u001b[0mx\u001b[0m \u001b[0;34m=\u001b[0m \u001b[0;34m(\u001b[0m\u001b[0mx\u001b[0m \u001b[0;34m*\u001b[0m \u001b[0mint_n\u001b[0m\u001b[0;34m)\u001b[0m\u001b[0;34m\u001b[0m\u001b[0m\n\u001b[1;32m     20\u001b[0m             \u001b[0my\u001b[0m \u001b[0;34m=\u001b[0m \u001b[0;34m(\u001b[0m\u001b[0my\u001b[0m \u001b[0;34m*\u001b[0m \u001b[0mi\u001b[0m\u001b[0;34m)\u001b[0m\u001b[0;34m\u001b[0m\u001b[0m\n\u001b[0;32m---> 21\u001b[0;31m             \u001b[0mcheck\u001b[0m \u001b[0;34m=\u001b[0m \u001b[0mx\u001b[0m\u001b[0;34m//\u001b[0m\u001b[0my\u001b[0m \u001b[0;34m%\u001b[0m \u001b[0;36m1000000007\u001b[0m\u001b[0;34m\u001b[0m\u001b[0m\n\u001b[0m\u001b[1;32m     22\u001b[0m             \u001b[0mint_n\u001b[0m \u001b[0;34m-=\u001b[0m \u001b[0;36m1\u001b[0m\u001b[0;34m\u001b[0m\u001b[0m\n\u001b[1;32m     23\u001b[0m     \u001b[0mprint\u001b[0m\u001b[0;34m(\u001b[0m\u001b[0mcheck\u001b[0m\u001b[0;34m)\u001b[0m\u001b[0;34m\u001b[0m\u001b[0m\n",
      "\u001b[0;31mKeyboardInterrupt\u001b[0m: "
     ]
    }
   ],
   "source": [
    "n , m = input().split(\" \")\n",
    "int_n = int(n)\n",
    "int_m = int(m)\n",
    "k = int_n - int_m\n",
    "x = 1\n",
    "y = 1\n",
    "check = 1\n",
    "if int_n == int_m or int_m == 0:\n",
    "    print(1)\n",
    "else :\n",
    "    if int_m > k:\n",
    "        for i in range(1,k+1):\n",
    "            x = (x * int_n)\n",
    "            y = (y * i)\n",
    "            check = x//y % 1000000007\n",
    "            int_n -= 1\n",
    "    else:\n",
    "        for i in range(1,int_m+1):\n",
    "            x = (x * int_n)\n",
    "            y = (y * i)\n",
    "            check = x//y % 1000000007\n",
    "            int_n -= 1\n",
    "    print(check)"
   ]
  },
  {
   "cell_type": "code",
   "execution_count": 60,
   "metadata": {},
   "outputs": [
    {
     "name": "stdout",
     "output_type": "stream",
     "text": [
      "68347450\n",
      "10068347520\n",
      "720\n",
      "94924\n"
     ]
    }
   ],
   "source": [
    "print((49 * 48 * 47 * 46 * 45 * 44) % 1000000007)\n",
    "print((49 * 48 * 47 * 46 * 45 * 44))\n",
    "print((6 * 5 * 4 * 3 * 2 * 1) % 1000000007)\n",
    "print((68345450 // 720) % 1000000007)"
   ]
  },
  {
   "cell_type": "markdown",
   "metadata": {},
   "source": [
    "2455 지능형 기차"
   ]
  },
  {
   "cell_type": "code",
   "execution_count": 66,
   "metadata": {},
   "outputs": [
    {
     "name": "stdout",
     "output_type": "stream",
     "text": [
      "0 32\n",
      "3 13\n",
      "28 25\n",
      "39 0\n",
      "42\n"
     ]
    }
   ],
   "source": [
    "num = 0\n",
    "max_num = 0\n",
    "for i in range(4):\n",
    "    n , m = input().split(\" \")\n",
    "    int_n = int(n)\n",
    "    int_m = int(m)\n",
    "    num = num + int_m - int_n\n",
    "    if max_num < num :\n",
    "        max_num = num\n",
    "print(max_num)"
   ]
  },
  {
   "cell_type": "code",
   "execution_count": 83,
   "metadata": {},
   "outputs": [
    {
     "name": "stdout",
     "output_type": "stream",
     "text": [
      "23\n"
     ]
    },
    {
     "ename": "KeyboardInterrupt",
     "evalue": "",
     "output_type": "error",
     "traceback": [
      "\u001b[0;31m---------------------------------------------------------------------------\u001b[0m",
      "\u001b[0;31mKeyboardInterrupt\u001b[0m                         Traceback (most recent call last)",
      "\u001b[0;32m<ipython-input-83-66961174853f>\u001b[0m in \u001b[0;36m<module>\u001b[0;34m()\u001b[0m\n\u001b[1;32m      8\u001b[0m     \u001b[0;32melse\u001b[0m\u001b[0;34m:\u001b[0m\u001b[0;34m\u001b[0m\u001b[0m\n\u001b[1;32m      9\u001b[0m         \u001b[0mm\u001b[0m \u001b[0;34m=\u001b[0m \u001b[0mm\u001b[0m \u001b[0;34m/\u001b[0m \u001b[0;36m2\u001b[0m\u001b[0;34m\u001b[0m\u001b[0m\n\u001b[0;32m---> 10\u001b[0;31m         \u001b[0mcount\u001b[0m \u001b[0;34m=\u001b[0m \u001b[0mcount\u001b[0m \u001b[0;34m+\u001b[0m \u001b[0;36m1\u001b[0m\u001b[0;34m\u001b[0m\u001b[0m\n\u001b[0m\u001b[1;32m     11\u001b[0m         \u001b[0;32mif\u001b[0m \u001b[0mk\u001b[0m \u001b[0;34m>=\u001b[0m \u001b[0mnum\u001b[0m \u001b[0;34m:\u001b[0m\u001b[0;34m\u001b[0m\u001b[0m\n\u001b[1;32m     12\u001b[0m             \u001b[0mk\u001b[0m \u001b[0;34m=\u001b[0m \u001b[0mk\u001b[0m \u001b[0;34m-\u001b[0m \u001b[0mm\u001b[0m\u001b[0;34m\u001b[0m\u001b[0m\n",
      "\u001b[0;31mKeyboardInterrupt\u001b[0m: "
     ]
    }
   ],
   "source": [
    "num = int(input())\n",
    "count = 1\n",
    "m = 64\n",
    "k = 64\n",
    "while True:\n",
    "    if num == k :\n",
    "        break\n",
    "    else:\n",
    "        m = m / 2\n",
    "        count = count + 1\n",
    "        if k >= num :\n",
    "            \n",
    "            k = k - m\n",
    "            count = count - 1\n",
    "        "
   ]
  },
  {
   "cell_type": "code",
   "execution_count": 82,
   "metadata": {},
   "outputs": [
    {
     "name": "stdout",
     "output_type": "stream",
     "text": [
      "[[0, 5], [0, 0], [0, 0], [0, 0], [0, 0], [0, 0]]\n"
     ]
    }
   ],
   "source": [
    "n = [[0 for row in range(2)] for col in range(6)]\n",
    "n[0][1] = 5\n",
    "print(n)"
   ]
  },
  {
   "cell_type": "markdown",
   "metadata": {},
   "source": [
    "1057 토너먼트"
   ]
  },
  {
   "cell_type": "code",
   "execution_count": 104,
   "metadata": {},
   "outputs": [
    {
     "ename": "SyntaxError",
     "evalue": "invalid syntax (<ipython-input-104-db88315766e6>, line 1)",
     "output_type": "error",
     "traceback": [
      "\u001b[0;36m  File \u001b[0;32m\"<ipython-input-104-db88315766e6>\"\u001b[0;36m, line \u001b[0;32m1\u001b[0m\n\u001b[0;31m    *ㅇㅁㅇㅁ(*/)\u001b[0m\n\u001b[0m           ^\u001b[0m\n\u001b[0;31mSyntaxError\u001b[0m\u001b[0;31m:\u001b[0m invalid syntax\n"
     ]
    }
   ],
   "source": [
    "#서로의 번호가 주어졌을때 2로 계속 나눠가면서 올림 값이 같아질경우가 두사람이 경기를 하는 경우이기에 계속해서 올림을 해준다.\n",
    "num, n, m = input().split(\" \")\n",
    "round(int(n))\n",
    "round(int(m))\n",
    "x = round((int(n)/2)+0.1)\n",
    "y = round((int(m)/2)+0.1)\n",
    "count = 1\n",
    "while True :\n",
    "    if x == y :\n",
    "        break\n",
    "    else:\n",
    "        x = round((x/2)+0.1) \n",
    "        y = round((y/2)+0.1)\n",
    "        count += 1\n",
    "print(count)"
   ]
  },
  {
   "cell_type": "markdown",
   "metadata": {},
   "source": [
    "1547 공"
   ]
  },
  {
   "cell_type": "code",
   "execution_count": 110,
   "metadata": {},
   "outputs": [
    {
     "name": "stdout",
     "output_type": "stream",
     "text": [
      "4\n",
      "3 1\n",
      "2 3\n",
      "3 1\n",
      "3 2\n",
      "3\n"
     ]
    }
   ],
   "source": [
    "#공의 위치는 항상 맨 왼쪽에 존재하고 맨 왼쪽의 컵의 번호를 출력하는 문제\n",
    "#처음에 1번위치에 공이 있기에 1을 넣고 바뀌는 컵의 위치의 값만 바꾼후 1이 들어있는 컵을 출력\n",
    "num = int(input())\n",
    "arr = [0, 1, 0, 0]\n",
    "for i in range(num) :\n",
    "    n , m = input().split(\" \")\n",
    "    temp = arr[int(n)]\n",
    "    arr[int(n)] = arr[int(m)]\n",
    "    arr[int(m)] = temp\n",
    "for i in range(1,4):\n",
    "    if arr[i] == 1:\n",
    "        print(i)"
   ]
  },
  {
   "cell_type": "markdown",
   "metadata": {},
   "source": [
    "1065 한수"
   ]
  },
  {
   "cell_type": "code",
   "execution_count": 120,
   "metadata": {},
   "outputs": [
    {
     "name": "stdout",
     "output_type": "stream",
     "text": [
      "110\n",
      "99\n"
     ]
    }
   ],
   "source": [
    "#1~99 까지는 한수이다 100 부터는 백의자리 십의자리 일의자리의 수를 구한 후 백의자리 - 십의자리 의 값과 십의자리 - 일의자리의 값이 같으면 한수\n",
    "num = int(input())\n",
    "count = 0;\n",
    "for i in range(1, num+1) :\n",
    "    if i <= 99 :\n",
    "        count += 1;\n",
    "    elif i != 1000 :\n",
    "        x = int(i / 100)\n",
    "        y = int((i / 10) % 10)\n",
    "        z = int((i % 100) % 10)\n",
    "        n = x - y\n",
    "        m = y - z\n",
    "        if n == m :\n",
    "            count += 1\n",
    "print(count)"
   ]
  },
  {
   "cell_type": "markdown",
   "metadata": {},
   "source": [
    "7568 덩치"
   ]
  },
  {
   "cell_type": "code",
   "execution_count": 126,
   "metadata": {},
   "outputs": [
    {
     "name": "stdout",
     "output_type": "stream",
     "text": [
      "5\n",
      "55 185\n",
      "58 183\n",
      "88 186\n",
      "60 175\n",
      "46 155\n",
      "2 2 1 2 5\n"
     ]
    }
   ],
   "source": [
    "t = int(input())\n",
    "build = [[0 for col in range(t)] for row in range(t)]\n",
    "rank = [1 for i in range(t)]\n",
    "\n",
    "for i in range(t) :\n",
    "    x , y = input().split(\" \")\n",
    "    build[i][0] = int(x)\n",
    "    build[i][1] = int(y)\n",
    "    \n",
    "for i in range(t) :\n",
    "    for j in range(t) :\n",
    "        if i != j :\n",
    "            if build[i][0] < build[j][0] and build[i][1] < build[j][1] :\n",
    "                rank[i] += 1\n",
    "\n",
    "print(' '.join(str(x) for x in rank))"
   ]
  },
  {
   "cell_type": "markdown",
   "metadata": {},
   "source": [
    "2231 분해합"
   ]
  },
  {
   "cell_type": "code",
   "execution_count": 133,
   "metadata": {},
   "outputs": [
    {
     "name": "stdout",
     "output_type": "stream",
     "text": [
      "2\n",
      "1\n"
     ]
    }
   ],
   "source": [
    "#1000000까지의 값이 주어지기에 최대 1000000번 for문을 돈다. 자기 자신의 값과 각 자릿수값이 m과 같아 지는 i값을 출력\n",
    "#각 자릿수의 값을 구하기위해 나머지값을 더해주고 100이하의 값은 몫과 나머지를 더해 while을 끝마친다\n",
    "m = int(input())\n",
    "result = 0\n",
    "for i in range(1000000) :\n",
    "    sum_num = i\n",
    "    check = i\n",
    "    while True :\n",
    "        if check < 100:\n",
    "            sum_num += int(check % 10)\n",
    "            sum_num += int(check // 10)\n",
    "            break\n",
    "        sum_num += int(check%10)\n",
    "        check = check // 10\n",
    "    if sum_num == m :\n",
    "        result = i\n",
    "        break\n",
    "print(result)"
   ]
  },
  {
   "cell_type": "markdown",
   "metadata": {},
   "source": [
    "1038 감소하는 수"
   ]
  },
  {
   "cell_type": "code",
   "execution_count": 284,
   "metadata": {
    "scrolled": true
   },
   "outputs": [
    {
     "name": "stdout",
     "output_type": "stream",
     "text": [
      "1231231\n",
      "-1\n"
     ]
    }
   ],
   "source": [
    "#배열을 이용한 풀이 \n",
    "#만약 앞의 배열 값이 더 작다고 9가 아니라면 그 값을 하나 증가시켜준다. 그리고 9라면 앞의 배열 값을 1증가 시키고 그 배열의 값은 0으로 둔다.\n",
    "#그리고 그 뒤의 값들을 모두 0으로 만들어 주고 for문을 끝마친다.\n",
    "#감소하는 수인 경우 마지막 배열의 값을 1증가시키고 count를 1 증가 시켜준다.\n",
    "m = int(input())\n",
    "count = 0\n",
    "result = 0\n",
    "arr = [0 for i in range(10)]\n",
    "if(m == 0):\n",
    "    print(0)\n",
    "else:\n",
    "    while count != m :\n",
    "        if m > 1022:\n",
    "            print(-1)\n",
    "            break\n",
    "        if count < 9:\n",
    "            count += 1\n",
    "            arr[9] += 1\n",
    "            result = 8\n",
    "        else :\n",
    "            for i in range(result,9):\n",
    "                if arr[i] <= arr[i+1]:\n",
    "                    if arr[i] == 9 :\n",
    "                        arr[i - 1] += 1\n",
    "                        arr[i] = 0\n",
    "                        result -= 1\n",
    "                    else :\n",
    "                        arr[i] += 1\n",
    "                    for j in range(i,9):\n",
    "                        arr[j+1] = 0\n",
    "                    break;\n",
    "                else:\n",
    "                    if i == 8:\n",
    "                        count += 1\n",
    "                        if count != m :\n",
    "                            arr[9] += 1\n",
    "    \n",
    "    if m <= 1022:\n",
    "        print(int(''.join(str(x) for x in arr)))   "
   ]
  },
  {
   "cell_type": "code",
   "execution_count": 314,
   "metadata": {
    "scrolled": true
   },
   "outputs": [
    {
     "name": "stdout",
     "output_type": "stream",
     "text": [
      "10\n",
      "\n"
     ]
    },
    {
     "ename": "TypeError",
     "evalue": "'str' object cannot be interpreted as an integer",
     "output_type": "error",
     "traceback": [
      "\u001b[0;31m---------------------------------------------------------------------------\u001b[0m",
      "\u001b[0;31mTypeError\u001b[0m                                 Traceback (most recent call last)",
      "\u001b[0;32m<ipython-input-314-4e758def0956>\u001b[0m in \u001b[0;36m<module>\u001b[0;34m()\u001b[0m\n\u001b[1;32m      4\u001b[0m \u001b[0mnum\u001b[0m \u001b[0;34m=\u001b[0m \u001b[0;36m0\u001b[0m\u001b[0;34m\u001b[0m\u001b[0m\n\u001b[1;32m      5\u001b[0m \u001b[0mprint\u001b[0m\u001b[0;34m(\u001b[0m\u001b[0mn\u001b[0m\u001b[0;34m)\u001b[0m\u001b[0;34m\u001b[0m\u001b[0m\n\u001b[0;32m----> 6\u001b[0;31m \u001b[0;32mfor\u001b[0m \u001b[0mi\u001b[0m \u001b[0;32min\u001b[0m \u001b[0mrange\u001b[0m\u001b[0;34m(\u001b[0m\u001b[0mn\u001b[0m\u001b[0;34m)\u001b[0m\u001b[0;34m:\u001b[0m\u001b[0;34m\u001b[0m\u001b[0m\n\u001b[0m\u001b[1;32m      7\u001b[0m     \u001b[0mm\u001b[0m \u001b[0;34m=\u001b[0m \u001b[0mint\u001b[0m\u001b[0;34m(\u001b[0m\u001b[0msys\u001b[0m\u001b[0;34m.\u001b[0m\u001b[0mstdin\u001b[0m\u001b[0;34m.\u001b[0m\u001b[0mreadline\u001b[0m\u001b[0;34m(\u001b[0m\u001b[0;34m)\u001b[0m\u001b[0;34m)\u001b[0m\u001b[0;34m\u001b[0m\u001b[0m\n\u001b[1;32m      8\u001b[0m     \u001b[0marr\u001b[0m\u001b[0;34m[\u001b[0m\u001b[0mm\u001b[0m\u001b[0;34m]\u001b[0m \u001b[0;34m+=\u001b[0m \u001b[0;36m1\u001b[0m\u001b[0;34m\u001b[0m\u001b[0m\n",
      "\u001b[0;31mTypeError\u001b[0m: 'str' object cannot be interpreted as an integer"
     ]
    }
   ],
   "source": [
    "import sys\n",
    "n = int(input())\n",
    "arr = [0 for row in range(10001)]\n",
    "num = 0\n",
    "for i in range(n):\n",
    "    m = int(input())\n",
    "    arr[m] += 1\n",
    "    if num < m :\n",
    "        num = m\n",
    "for i in range(num+1) :\n",
    "    if arr[i] != 0 :\n",
    "        for j in range(arr[i]) :\n",
    "            print(i)"
   ]
  },
  {
   "cell_type": "markdown",
   "metadata": {},
   "source": [
    "2749 피보나치 3"
   ]
  },
  {
   "cell_type": "code",
   "execution_count": 346,
   "metadata": {},
   "outputs": [
    {
     "name": "stdout",
     "output_type": "stream",
     "text": [
      "1000\n",
      "228875\n"
     ]
    }
   ],
   "source": [
    "# 주기 1000000 / 10 * 15 => 1500000\n",
    "# 피보나치의 주기를 구해서 해결하는 문제 주기는 n / 10*15 이다\n",
    "n = int(input())\n",
    "mod = 1000000\n",
    "p = int(1000000 / 10 * 15)\n",
    "arr = [0 for row in range(1500000)]\n",
    "arr[0] = 0; arr[1] = 1;\n",
    "for i in range(2,p) : \n",
    "    arr[i] = arr[i - 2] + arr[i - 1]\n",
    "    arr[i] %= mod\n",
    "print(arr[n%p])"
   ]
  },
  {
   "cell_type": "markdown",
   "metadata": {},
   "source": [
    "1934 최소공배수"
   ]
  },
  {
   "cell_type": "code",
   "execution_count": 378,
   "metadata": {},
   "outputs": [
    {
     "name": "stdout",
     "output_type": "stream",
     "text": [
      "1\n",
      "121 199\n",
      "24079\n"
     ]
    }
   ],
   "source": [
    "#유클리드 호제법을 이용해서 최대공약수를 구하고 a*b 에 최대공약수를 나누어 준것이 최소공배수이다.\n",
    "n = int(input())\n",
    "for i in range(n):\n",
    "    x , y = input().split(\" \")\n",
    "    a = int(x)\n",
    "    b = int(y)\n",
    "    if a > b:\n",
    "        temp = a\n",
    "        a = b\n",
    "        b = temp\n",
    "    c = b\n",
    "    d = a\n",
    "    #최대공약수를 구하고 마지막에 a*b 한 값에 최대공약수를 나누어준다.\n",
    "    while True:\n",
    "        min_num = c % d\n",
    "        if min_num == 0:\n",
    "            print(int(a*b/d))\n",
    "            break\n",
    "        else :\n",
    "            c = d\n",
    "            d = min_num"
   ]
  },
  {
   "cell_type": "code",
   "execution_count": 423,
   "metadata": {},
   "outputs": [
    {
     "name": "stdout",
     "output_type": "stream",
     "text": [
      "34 38\n",
      "2\n",
      "646\n"
     ]
    }
   ],
   "source": [
    "#유클리드 호제법을 이용해서 최대공약수를 구하고 a*b 에 최대공약수를 나누어 준것이 최소공배수이다.\n",
    "x , y = input().split(\" \")\n",
    "a = int(x)\n",
    "b = int(y)\n",
    "if a > b:\n",
    "    temp = a\n",
    "    a = b\n",
    "    b = temp\n",
    "c = b\n",
    "d = a\n",
    "while True:\n",
    "    min_num = c % d\n",
    "    if min_num == 0:\n",
    "        print(d)\n",
    "        print(int(a*b/d))\n",
    "        break\n",
    "    else :\n",
    "        c = d\n",
    "        d = min_num"
   ]
  },
  {
   "cell_type": "code",
   "execution_count": 427,
   "metadata": {},
   "outputs": [
    {
     "name": "stdout",
     "output_type": "stream",
     "text": [
      "1\n",
      "1 1\n"
     ]
    }
   ],
   "source": [
    "#유클리드 호제법을 이용해서 최대공약수를 구한다\n",
    "#0번째 배열과 나머지들의 각각 최대공약수를 구하고 각각의 배열을 그 값으로 나눠준다.\n",
    "n = int(input())\n",
    "arr = [0 for row in range(n)]\n",
    "arr = input().split(\" \")\n",
    "\n",
    "for i in range(1,n) :\n",
    "    a = int(arr[0])\n",
    "    b = int(arr[i])\n",
    "    while True :\n",
    "        min_num = a % b\n",
    "        if min_num == 0:\n",
    "            result = str(int(int(arr[0])/b))\n",
    "            result += \"/\"\n",
    "            result += str(int(int(arr[i])/b))\n",
    "            print(result)\n",
    "            break\n",
    "        else :\n",
    "            a = b\n",
    "            b = min_num"
   ]
  },
  {
   "cell_type": "code",
   "execution_count": 444,
   "metadata": {},
   "outputs": [
    {
     "name": "stdout",
     "output_type": "stream",
     "text": [
      "60\n",
      "100\n",
      "245\n",
      "64\n"
     ]
    }
   ],
   "source": [
    "m = int(input())\n",
    "n = int(input())\n",
    "sum_num = 0\n",
    "min_num = 10001\n",
    "for i in range(1,10000):\n",
    "    mlt = i * i\n",
    "    if mlt > n :\n",
    "        break\n",
    "    elif mlt >= m :\n",
    "        sum_num += mlt\n",
    "        if min_num > mlt :\n",
    "            min_num = mlt\n",
    "\n",
    "if sum_num == 0:\n",
    "    print(-1)\n",
    "else:\n",
    "    print(int(sum_num))\n",
    "    print(int(min_num))\n"
   ]
  },
  {
   "cell_type": "code",
   "execution_count": 461,
   "metadata": {},
   "outputs": [
    {
     "name": "stdout",
     "output_type": "stream",
     "text": [
      "4 9\n",
      "4\n"
     ]
    }
   ],
   "source": [
    "a , b = input().split(\" \")\n",
    "m = int(a)\n",
    "n = int(b)\n",
    "sum_num = n - m + 1\n",
    "i = 1\n",
    "while True :\n",
    "    mlt = i * i\n",
    "    if mlt > n :\n",
    "        break\n",
    "    if mlt >= m and mlt <= n :\n",
    "        sum_num -= 1\n",
    "    i += 1\n",
    "print(int(sum_num))"
   ]
  },
  {
   "cell_type": "markdown",
   "metadata": {},
   "source": [
    "1085 직사각형에서 탈출"
   ]
  },
  {
   "cell_type": "code",
   "execution_count": 465,
   "metadata": {},
   "outputs": [
    {
     "name": "stdout",
     "output_type": "stream",
     "text": [
      "3 2 100 1000\n",
      "2\n"
     ]
    }
   ],
   "source": [
    "a, b, c, d = input().split(\" \")\n",
    "x = int(a)\n",
    "y = int(b)\n",
    "w = int(c)\n",
    "h = int(d)\n",
    "\n",
    "if w - x > x :\n",
    "    min_x = x\n",
    "else:\n",
    "    min_x = w - x\n",
    "\n",
    "if h - y > y :\n",
    "    min_y = y\n",
    "else:\n",
    "    min_y = h - y\n",
    "    \n",
    "if(min_x > min_y):\n",
    "    print(min_y)\n",
    "else:\n",
    "    print(min_x)"
   ]
  },
  {
   "cell_type": "markdown",
   "metadata": {},
   "source": [
    "R2"
   ]
  },
  {
   "cell_type": "code",
   "execution_count": 466,
   "metadata": {},
   "outputs": [
    {
     "name": "stdout",
     "output_type": "stream",
     "text": [
      "11 15\n",
      "19\n"
     ]
    }
   ],
   "source": [
    "a, b = input().split(\" \")\n",
    "R1 = int(a)\n",
    "S = int(b)\n",
    "\n",
    "R2 = 2*S - R1\n",
    "print(R2)"
   ]
  },
  {
   "cell_type": "markdown",
   "metadata": {},
   "source": [
    "1476 날짜계산"
   ]
  },
  {
   "cell_type": "code",
   "execution_count": 471,
   "metadata": {},
   "outputs": [
    {
     "name": "stdout",
     "output_type": "stream",
     "text": [
      "15 28 19\n",
      "7980\n"
     ]
    }
   ],
   "source": [
    "a, b, c = input().split(\" \")\n",
    "E = int(a) # 1 ~ 15\n",
    "S = int(b) # 1 ~ 28\n",
    "M = int(c) # 1 ~ 19\n",
    "arr = [1,1,1]\n",
    "count = 1\n",
    "while True :\n",
    "    if arr[0] == E and arr[1] == S and arr[2] == M :\n",
    "        break\n",
    "    arr[0] += 1\n",
    "    arr[1] += 1\n",
    "    arr[2] += 1\n",
    "    count += 1\n",
    "    if arr[0] == 16 :\n",
    "        arr[0] = 1\n",
    "    if arr[1] == 29 :\n",
    "        arr[1] = 1\n",
    "    if arr[2] == 20 :\n",
    "        arr[2] = 1\n",
    "\n",
    "print(count)"
   ]
  },
  {
   "cell_type": "markdown",
   "metadata": {},
   "source": [
    "2965 캥거루 세마리"
   ]
  },
  {
   "cell_type": "code",
   "execution_count": 473,
   "metadata": {},
   "outputs": [
    {
     "name": "stdout",
     "output_type": "stream",
     "text": [
      "3 5 9\n",
      "3\n"
     ]
    }
   ],
   "source": [
    "a, b, c = input().split(\" \")\n",
    "\n",
    "first = int(a)\n",
    "second = int(b)\n",
    "third = int(c)\n",
    "count_a = 0\n",
    "count_b = 0\n",
    "while True :\n",
    "    if second-1 == first:\n",
    "        break\n",
    "    count_a += 1\n",
    "    first += 1\n",
    "\n",
    "while True :\n",
    "    if second+1 == third:\n",
    "        break\n",
    "    count_b += 1\n",
    "    third -= 1\n",
    "\n",
    "if count_b > count_a:\n",
    "    print(count_b)\n",
    "else:\n",
    "    print(count_a)"
   ]
  },
  {
   "cell_type": "code",
   "execution_count": 24,
   "metadata": {},
   "outputs": [
    {
     "name": "stdout",
     "output_type": "stream",
     "text": [
      "1\n",
      "HELLOTHEREEWELLLBEFINEE\n",
      "OK\n"
     ]
    }
   ],
   "source": [
    "n = int(input())\n",
    "result = [\"\" for row in range(n)]\n",
    "for i in range(n):\n",
    "    st = input()\n",
    "    arr = [0 for row in range(26)]\n",
    "    temp = 0\n",
    "    check = True\n",
    "    for j in range(len(st)):\n",
    "        #아스키코드를 확인해서 그 배열의 값이 3 이면 false로 바꾸고 그 다음 문자와 비교해서 같으면 다시 True로\n",
    "        #다르면 FAKE 출력\n",
    "        ch = ord(st[j])\n",
    "        if check == True :\n",
    "            arr[ch-65] += 1\n",
    "            if arr[ch-65] == 3:\n",
    "                arr[ch-65] = 0\n",
    "                temp = ch\n",
    "                check = False\n",
    "        elif check == False:\n",
    "            if temp == ch :\n",
    "                check = True\n",
    "            else :\n",
    "                break    \n",
    "    if check == True :\n",
    "        result[i] = \"OK\"\n",
    "    else:\n",
    "        result[i] = \"FAKE\"\n",
    "        \n",
    "for i in range(n):\n",
    "    print(result[i])"
   ]
  },
  {
   "cell_type": "code",
   "execution_count": 2,
   "metadata": {},
   "outputs": [
    {
     "name": "stdout",
     "output_type": "stream",
     "text": [
      "65\n"
     ]
    }
   ],
   "source": [
    "print(ord('A'))"
   ]
  },
  {
   "cell_type": "code",
   "execution_count": 2,
   "metadata": {},
   "outputs": [
    {
     "name": "stdout",
     "output_type": "stream",
     "text": [
      "1\n",
      "1\n",
      "2 100\n",
      "0\n"
     ]
    }
   ],
   "source": [
    "n = int(input())\n",
    "m = int(input())\n",
    "check = False\n",
    "max_num = 0\n",
    "for i in range(n):\n",
    "    x , y = input().split(\" \")\n",
    "    in_car = int(x) #터널에 진입한 차량\n",
    "    out_car = int(y) #터널에서 나간 차량\n",
    "    \n",
    "    m = m + in_car - out_car # 터널에 존재하는 차량 수 + 진입한 차량 - 나간 차량\n",
    "    if check == False :\n",
    "        if m < 0 :\n",
    "            check = True\n",
    "        else :\n",
    "            if max_num < m :\n",
    "                max_num = m\n",
    "\n",
    "if check == True :\n",
    "    print(0)\n",
    "else:\n",
    "    print(max_num)"
   ]
  },
  {
   "cell_type": "code",
   "execution_count": 4,
   "metadata": {},
   "outputs": [
    {
     "name": "stdout",
     "output_type": "stream",
     "text": [
      "占쏙옙占쏙옙占쏙옙占쏙옙占쏙옙占쏙옙占쏙옙占쏙옙占쏙옙占쏙옙占쏙옙占쏙옙占쏙옙占쏙옙占쏙옙占쏙옙占쏙옙占쏙옙占쏙옙占쏙옙占쏙옙占쏙옙占쏙옙占쏙옙占쏙옙占쏙옙占쏙옙占쏙옙占쏙옙占쏙옙占쏙옙占쏙옙占쏙옙占쏙옙占쏙옙占쏙옙占쏙옙占쏙옙占쏙옙占쏙옙占쏙옙占쏙옙占쏙옙占쏙옙占쏙옙占쏙옙占쏙옙占쏙옙占쏙옙占쏙옙占쏙옙占쏙옙占쏙옙占쏙옙占쏙옙占쏙옙占쏙옙占쏙옙占쏙옙占쏙옙占쏙옙占쏙옙占쏙옙占쏙옙占쏙옙占쏙옙占쏙옙占쏙옙占쏙옙占쏙옙\n",
      "\n",
      "占쏙옙占쏙옙占쏙옙占쏙옙占쏙옙占쏙옙占쏙옙占쏙옙占쏙옙占쏙옙占쏙옙占쏙옙占쏙옙占쏙옙占쏙옙占쏙옙占쏙옙占쏙옙占쏙옙占쏙옙占쏙옙占쏙옙占쏙옙占쏙옙占쏙옙占쏙옙占쏙옙\n",
      "\n",
      "占쏙옙占쏙옙占쏙옙占쏙옙占쏙옙占쏙옙占쏙옙占쏙옙占쏙옙占쏙옙占쏙옙占쏙옙占쏙옙占쏙옙占쏙옙占쏙옙占쏙옙占쏙옙占쏙옙占쏙옙占쏙옙占쏙옙占쏙옙占쏙옙占쏙옙占쏙옙占쏙옙占쏙옙占쏙옙占쏙옙占쏙옙占쏙옙占쏙옙占쏙옙占쏙옙占쏙옙占쏙옙占쏙옙占쏙옙占쏙옙占쏙옙占쏙옙占쏙옙占쏙옙占쏙옙占쏙옙占쏙옙占쏙옙占쏙옙占쏙옙\n"
     ]
    }
   ],
   "source": [
    "str = \"占쏙옙占쏙옙占쏙옙占쏙옙占쏙옙占쏙옙占쏙옙占쏙옙占쏙옙占쏙옙占쏙옙占쏙옙占쏙옙占쏙옙占쏙옙占쏙옙占쏙옙占쏙옙占쏙옙占쏙옙占쏙옙占쏙옙占쏙옙占쏙옙占쏙옙占쏙옙占쏙옙占쏙옙占쏙옙占쏙옙占쏙옙占쏙옙占쏙옙占쏙옙占쏙옙占쏙옙占쏙옙占쏙옙占쏙옙占쏙옙占쏙옙占쏙옙占쏙옙占쏙옙占쏙옙占쏙옙占쏙옙占쏙옙占쏙옙占쏙옙占쏙옙占쏙옙占쏙옙占쏙옙占쏙옙占쏙옙占쏙옙占쏙옙占쏙옙占쏙옙占쏙옙占쏙옙占쏙옙占쏙옙占쏙옙占쏙옙占쏙옙占쏙옙占쏙옙占쏙옙\"\n"
   ]
  },
  {
   "cell_type": "code",
   "execution_count": 32,
   "metadata": {},
   "outputs": [
    {
     "name": "stdout",
     "output_type": "stream",
     "text": [
      "daskdka\n",
      "daskdka??!\n"
     ]
    }
   ],
   "source": [
    "String = input()\n",
    "print(String+\"??!\")"
   ]
  },
  {
   "cell_type": "code",
   "execution_count": null,
   "metadata": {
    "collapsed": true
   },
   "outputs": [],
   "source": []
  }
 ],
 "metadata": {
  "kernelspec": {
   "display_name": "Python 3",
   "language": "python",
   "name": "python3"
  },
  "language_info": {
   "codemirror_mode": {
    "name": "ipython",
    "version": 3
   },
   "file_extension": ".py",
   "mimetype": "text/x-python",
   "name": "python",
   "nbconvert_exporter": "python",
   "pygments_lexer": "ipython3",
   "version": "3.6.1"
  }
 },
 "nbformat": 4,
 "nbformat_minor": 2
}
