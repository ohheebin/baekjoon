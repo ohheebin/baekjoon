{
 "cells": [
  {
   "cell_type": "code",
   "execution_count": 45,
   "metadata": {},
   "outputs": [
    {
     "name": "stdout",
     "output_type": "stream",
     "text": [
      "1\n",
      "0\n"
     ]
    }
   ],
   "source": [
    "n = int(input())\n",
    "x = 1\n",
    "first = -1\n",
    "second = 0\n",
    "check = 0\n",
    "count = 0\n",
    "\n",
    "for i in range(1,n+1):\n",
    "    x = x * i\n",
    "    \n",
    "for i in range(0,len(str(x))):\n",
    "    if first == -1 :\n",
    "        check = int(str(x)[-1:])\n",
    "    else :\n",
    "        check = int(str(x)[first:second])\n",
    "    first = first - 1\n",
    "    second = second - 1\n",
    "    \n",
    "    if check == 0 :\n",
    "        count = count + 1\n",
    "    else :\n",
    "        break\n",
    "print(count)"
   ]
  },
  {
   "cell_type": "markdown",
   "metadata": {},
   "source": [
    "2407 조합"
   ]
  },
  {
   "cell_type": "code",
   "execution_count": 61,
   "metadata": {},
   "outputs": [
    {
     "name": "stdout",
     "output_type": "stream",
     "text": [
      "5 2\n",
      "10\n"
     ]
    }
   ],
   "source": [
    "n , m = input().split(\" \")\n",
    "\n",
    "int_n = int(n)\n",
    "int_m = int(m)\n",
    "\n",
    "x = 1\n",
    "y = 1\n",
    "for i in range(1,int_m + 1):\n",
    "    x = x * int_n\n",
    "    y = y * i\n",
    "    int_n = int_n - 1\n",
    "    \n",
    "print(int(x//y))"
   ]
  },
  {
   "cell_type": "markdown",
   "metadata": {},
   "source": [
    "6591 이항 쇼다운"
   ]
  },
  {
   "cell_type": "code",
   "execution_count": 28,
   "metadata": {},
   "outputs": [
    {
     "name": "stdout",
     "output_type": "stream",
     "text": [
      "49 6\n",
      "13983816\n",
      "19999 19998\n",
      "19999\n",
      "1 1\n",
      "1\n",
      "4 4\n",
      "1\n",
      "494949 494949\n",
      "1\n",
      "1003 3\n",
      "167668501\n",
      "0 0\n"
     ]
    }
   ],
   "source": [
    "while True:\n",
    "    n , m = input().split(\" \")\n",
    "    if int(n) == 0 and int(m) == 0:\n",
    "        break\n",
    "    int_n = int(n)\n",
    "    int_m = int(m)\n",
    "    k = int_n - int_m\n",
    "    x = 1\n",
    "    y = 1\n",
    "    if int_n == int_m or int_m == 0:\n",
    "        print(1)\n",
    "    else :\n",
    "        if int_m > k:\n",
    "            for i in range(1,k+1):\n",
    "                x = x * int_n\n",
    "                y = y * i\n",
    "                int_n -= 1\n",
    "        else:\n",
    "            for i in range(1,int_m+1):\n",
    "                x = x * int_n\n",
    "                y = y * i\n",
    "                int_n -= 1\n",
    "        print(x//y)\n",
    "        "
   ]
  },
  {
   "cell_type": "code",
   "execution_count": 65,
   "metadata": {
    "scrolled": true
   },
   "outputs": [
    {
     "name": "stdout",
     "output_type": "stream",
     "text": [
      "4000000 2000000\n"
     ]
    },
    {
     "ename": "KeyboardInterrupt",
     "evalue": "",
     "output_type": "error",
     "traceback": [
      "\u001b[0;31m---------------------------------------------------------------------------\u001b[0m",
      "\u001b[0;31mKeyboardInterrupt\u001b[0m                         Traceback (most recent call last)",
      "\u001b[0;32m<ipython-input-65-10286530b08c>\u001b[0m in \u001b[0;36m<module>\u001b[0;34m()\u001b[0m\n\u001b[1;32m     19\u001b[0m             \u001b[0mx\u001b[0m \u001b[0;34m=\u001b[0m \u001b[0;34m(\u001b[0m\u001b[0mx\u001b[0m \u001b[0;34m*\u001b[0m \u001b[0mint_n\u001b[0m\u001b[0;34m)\u001b[0m\u001b[0;34m\u001b[0m\u001b[0m\n\u001b[1;32m     20\u001b[0m             \u001b[0my\u001b[0m \u001b[0;34m=\u001b[0m \u001b[0;34m(\u001b[0m\u001b[0my\u001b[0m \u001b[0;34m*\u001b[0m \u001b[0mi\u001b[0m\u001b[0;34m)\u001b[0m\u001b[0;34m\u001b[0m\u001b[0m\n\u001b[0;32m---> 21\u001b[0;31m             \u001b[0mcheck\u001b[0m \u001b[0;34m=\u001b[0m \u001b[0mx\u001b[0m\u001b[0;34m//\u001b[0m\u001b[0my\u001b[0m \u001b[0;34m%\u001b[0m \u001b[0;36m1000000007\u001b[0m\u001b[0;34m\u001b[0m\u001b[0m\n\u001b[0m\u001b[1;32m     22\u001b[0m             \u001b[0mint_n\u001b[0m \u001b[0;34m-=\u001b[0m \u001b[0;36m1\u001b[0m\u001b[0;34m\u001b[0m\u001b[0m\n\u001b[1;32m     23\u001b[0m     \u001b[0mprint\u001b[0m\u001b[0;34m(\u001b[0m\u001b[0mcheck\u001b[0m\u001b[0;34m)\u001b[0m\u001b[0;34m\u001b[0m\u001b[0m\n",
      "\u001b[0;31mKeyboardInterrupt\u001b[0m: "
     ]
    }
   ],
   "source": [
    "n , m = input().split(\" \")\n",
    "int_n = int(n)\n",
    "int_m = int(m)\n",
    "k = int_n - int_m\n",
    "x = 1\n",
    "y = 1\n",
    "check = 1\n",
    "if int_n == int_m or int_m == 0:\n",
    "    print(1)\n",
    "else :\n",
    "    if int_m > k:\n",
    "        for i in range(1,k+1):\n",
    "            x = (x * int_n)\n",
    "            y = (y * i)\n",
    "            check = x//y % 1000000007\n",
    "            int_n -= 1\n",
    "    else:\n",
    "        for i in range(1,int_m+1):\n",
    "            x = (x * int_n)\n",
    "            y = (y * i)\n",
    "            check = x//y % 1000000007\n",
    "            int_n -= 1\n",
    "    print(check)"
   ]
  },
  {
   "cell_type": "code",
   "execution_count": 60,
   "metadata": {},
   "outputs": [
    {
     "name": "stdout",
     "output_type": "stream",
     "text": [
      "68347450\n",
      "10068347520\n",
      "720\n",
      "94924\n"
     ]
    }
   ],
   "source": [
    "print((49 * 48 * 47 * 46 * 45 * 44) % 1000000007)\n",
    "print((49 * 48 * 47 * 46 * 45 * 44))\n",
    "print((6 * 5 * 4 * 3 * 2 * 1) % 1000000007)\n",
    "print((68345450 // 720) % 1000000007)"
   ]
  },
  {
   "cell_type": "markdown",
   "metadata": {},
   "source": [
    "2455 지능형 기차"
   ]
  },
  {
   "cell_type": "code",
   "execution_count": 66,
   "metadata": {},
   "outputs": [
    {
     "name": "stdout",
     "output_type": "stream",
     "text": [
      "0 32\n",
      "3 13\n",
      "28 25\n",
      "39 0\n",
      "42\n"
     ]
    }
   ],
   "source": [
    "num = 0\n",
    "max_num = 0\n",
    "for i in range(4):\n",
    "    n , m = input().split(\" \")\n",
    "    int_n = int(n)\n",
    "    int_m = int(m)\n",
    "    num = num + int_m - int_n\n",
    "    if max_num < num :\n",
    "        max_num = num\n",
    "print(max_num)"
   ]
  },
  {
   "cell_type": "code",
   "execution_count": 83,
   "metadata": {},
   "outputs": [
    {
     "name": "stdout",
     "output_type": "stream",
     "text": [
      "23\n"
     ]
    },
    {
     "ename": "KeyboardInterrupt",
     "evalue": "",
     "output_type": "error",
     "traceback": [
      "\u001b[0;31m---------------------------------------------------------------------------\u001b[0m",
      "\u001b[0;31mKeyboardInterrupt\u001b[0m                         Traceback (most recent call last)",
      "\u001b[0;32m<ipython-input-83-66961174853f>\u001b[0m in \u001b[0;36m<module>\u001b[0;34m()\u001b[0m\n\u001b[1;32m      8\u001b[0m     \u001b[0;32melse\u001b[0m\u001b[0;34m:\u001b[0m\u001b[0;34m\u001b[0m\u001b[0m\n\u001b[1;32m      9\u001b[0m         \u001b[0mm\u001b[0m \u001b[0;34m=\u001b[0m \u001b[0mm\u001b[0m \u001b[0;34m/\u001b[0m \u001b[0;36m2\u001b[0m\u001b[0;34m\u001b[0m\u001b[0m\n\u001b[0;32m---> 10\u001b[0;31m         \u001b[0mcount\u001b[0m \u001b[0;34m=\u001b[0m \u001b[0mcount\u001b[0m \u001b[0;34m+\u001b[0m \u001b[0;36m1\u001b[0m\u001b[0;34m\u001b[0m\u001b[0m\n\u001b[0m\u001b[1;32m     11\u001b[0m         \u001b[0;32mif\u001b[0m \u001b[0mk\u001b[0m \u001b[0;34m>=\u001b[0m \u001b[0mnum\u001b[0m \u001b[0;34m:\u001b[0m\u001b[0;34m\u001b[0m\u001b[0m\n\u001b[1;32m     12\u001b[0m             \u001b[0mk\u001b[0m \u001b[0;34m=\u001b[0m \u001b[0mk\u001b[0m \u001b[0;34m-\u001b[0m \u001b[0mm\u001b[0m\u001b[0;34m\u001b[0m\u001b[0m\n",
      "\u001b[0;31mKeyboardInterrupt\u001b[0m: "
     ]
    }
   ],
   "source": [
    "num = int(input())\n",
    "count = 1\n",
    "m = 64\n",
    "k = 64\n",
    "while True:\n",
    "    if num == k :\n",
    "        break\n",
    "    else:\n",
    "        m = m / 2\n",
    "        count = count + 1\n",
    "        if k >= num :\n",
    "            \n",
    "            k = k - m\n",
    "            count = count - 1\n",
    "        "
   ]
  },
  {
   "cell_type": "code",
   "execution_count": 82,
   "metadata": {},
   "outputs": [
    {
     "name": "stdout",
     "output_type": "stream",
     "text": [
      "[[0, 5], [0, 0], [0, 0], [0, 0], [0, 0], [0, 0]]\n"
     ]
    }
   ],
   "source": [
    "n = [[0 for row in range(2)] for col in range(6)]\n",
    "n[0][1] = 5\n",
    "print(n)"
   ]
  },
  {
   "cell_type": "markdown",
   "metadata": {},
   "source": [
    "1057 토너먼트"
   ]
  },
  {
   "cell_type": "code",
   "execution_count": 104,
   "metadata": {},
   "outputs": [
    {
     "ename": "SyntaxError",
     "evalue": "invalid syntax (<ipython-input-104-db88315766e6>, line 1)",
     "output_type": "error",
     "traceback": [
      "\u001b[0;36m  File \u001b[0;32m\"<ipython-input-104-db88315766e6>\"\u001b[0;36m, line \u001b[0;32m1\u001b[0m\n\u001b[0;31m    *ㅇㅁㅇㅁ(*/)\u001b[0m\n\u001b[0m           ^\u001b[0m\n\u001b[0;31mSyntaxError\u001b[0m\u001b[0;31m:\u001b[0m invalid syntax\n"
     ]
    }
   ],
   "source": [
    "#서로의 번호가 주어졌을때 2로 계속 나눠가면서 올림 값이 같아질경우가 두사람이 경기를 하는 경우이기에 계속해서 올림을 해준다.\n",
    "num, n, m = input().split(\" \")\n",
    "round(int(n))\n",
    "round(int(m))\n",
    "x = round((int(n)/2)+0.1)\n",
    "y = round((int(m)/2)+0.1)\n",
    "count = 1\n",
    "while True :\n",
    "    if x == y :\n",
    "        break\n",
    "    else:\n",
    "        x = round((x/2)+0.1) \n",
    "        y = round((y/2)+0.1)\n",
    "        count += 1\n",
    "print(count)"
   ]
  },
  {
   "cell_type": "markdown",
   "metadata": {},
   "source": [
    "1547 공"
   ]
  },
  {
   "cell_type": "code",
   "execution_count": 110,
   "metadata": {},
   "outputs": [
    {
     "name": "stdout",
     "output_type": "stream",
     "text": [
      "4\n",
      "3 1\n",
      "2 3\n",
      "3 1\n",
      "3 2\n",
      "3\n"
     ]
    }
   ],
   "source": [
    "#공의 위치는 항상 맨 왼쪽에 존재하고 맨 왼쪽의 컵의 번호를 출력하는 문제\n",
    "#처음에 1번위치에 공이 있기에 1을 넣고 바뀌는 컵의 위치의 값만 바꾼후 1이 들어있는 컵을 출력\n",
    "num = int(input())\n",
    "arr = [0, 1, 0, 0]\n",
    "for i in range(num) :\n",
    "    n , m = input().split(\" \")\n",
    "    temp = arr[int(n)]\n",
    "    arr[int(n)] = arr[int(m)]\n",
    "    arr[int(m)] = temp\n",
    "for i in range(1,4):\n",
    "    if arr[i] == 1:\n",
    "        print(i)"
   ]
  },
  {
   "cell_type": "markdown",
   "metadata": {},
   "source": [
    "1065 한수"
   ]
  },
  {
   "cell_type": "code",
   "execution_count": 120,
   "metadata": {},
   "outputs": [
    {
     "name": "stdout",
     "output_type": "stream",
     "text": [
      "110\n",
      "99\n"
     ]
    }
   ],
   "source": [
    "#1~99 까지는 한수이다 100 부터는 백의자리 십의자리 일의자리의 수를 구한 후 백의자리 - 십의자리 의 값과 십의자리 - 일의자리의 값이 같으면 한수\n",
    "num = int(input())\n",
    "count = 0;\n",
    "for i in range(1, num+1) :\n",
    "    if i <= 99 :\n",
    "        count += 1;\n",
    "    elif i != 1000 :\n",
    "        x = int(i / 100)\n",
    "        y = int((i / 10) % 10)\n",
    "        z = int((i % 100) % 10)\n",
    "        n = x - y\n",
    "        m = y - z\n",
    "        if n == m :\n",
    "            count += 1\n",
    "print(count)"
   ]
  },
  {
   "cell_type": "code",
   "execution_count": null,
   "metadata": {},
   "outputs": [],
   "source": [
    "t = int(input())\n",
    "build = [[0 for col in range(t)] for row in range(t)]\n",
    "rank = [1 for i in range(t)]\n",
    "\n",
    "for i in range(t) :\n",
    "    x , y = input().split(\" \")\n",
    "    build[i][0] = int(x)\n",
    "    build[i][1] = int(y)\n",
    "    \n",
    "for i in range(t) :\n",
    "    for j in range(t) :\n",
    "        if i != j :\n",
    "            if build[i][0] < build[j][0] and build[i][1] < build[j][1] :\n",
    "                rank[i] += 1\n",
    "\n",
    "print(' '.join(str(x) for x in rank))              \n"
   ]
  },
  {
   "cell_type": "code",
   "execution_count": null,
   "metadata": {
    "collapsed": true
   },
   "outputs": [],
   "source": [
    "5\n",
    "55 185\n",
    "58 183\n",
    "88 186\n",
    "60 175\n",
    "46 155"
   ]
  }
 ],
 "metadata": {
  "kernelspec": {
   "display_name": "Python 3",
   "language": "python",
   "name": "python3"
  },
  "language_info": {
   "codemirror_mode": {
    "name": "ipython",
    "version": 3
   },
   "file_extension": ".py",
   "mimetype": "text/x-python",
   "name": "python",
   "nbconvert_exporter": "python",
   "pygments_lexer": "ipython3",
   "version": "3.6.1"
  }
 },
 "nbformat": 4,
 "nbformat_minor": 2
}
