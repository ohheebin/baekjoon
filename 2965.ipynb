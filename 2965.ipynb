{
 "cells": [
  {
   "cell_type": "code",
   "execution_count": null,
   "metadata": {
    "collapsed": true
   },
   "outputs": [],
   "source": [
    "a, b, c = input().split(\" \")\n",
    "\n",
    "first = int(a)\n",
    "second = int(b)\n",
    "third = int(c)\n",
    "count_a = 0\n",
    "count_b = 0\n",
    "while True :\n",
    "    if second-1 == first:\n",
    "        break\n",
    "    count_a += 1\n",
    "    first += 1\n",
    "\n",
    "while True :\n",
    "    if second+1 == third:\n",
    "        break\n",
    "    count_b += 1\n",
    "    third -= 1\n",
    "\n",
    "if count_b > count_a:\n",
    "    print(count_b)\n",
    "else:\n",
    "    print(count_a)\n"
   ]
  }
 ],
 "metadata": {
  "kernelspec": {
   "display_name": "Python 3",
   "language": "python",
   "name": "python3"
  },
  "language_info": {
   "codemirror_mode": {
    "name": "ipython",
    "version": 3
   },
   "file_extension": ".py",
   "mimetype": "text/x-python",
   "name": "python",
   "nbconvert_exporter": "python",
   "pygments_lexer": "ipython3",
   "version": "3.6.1"
  }
 },
 "nbformat": 4,
 "nbformat_minor": 2
}
