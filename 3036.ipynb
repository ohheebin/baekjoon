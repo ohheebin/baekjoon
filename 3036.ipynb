{
 "cells": [
  {
   "cell_type": "code",
   "execution_count": null,
   "metadata": {
    "collapsed": true
   },
   "outputs": [],
   "source": [
    "#유클리드 호제법을 이용해서 최대공약수를 구한다\n",
    "#0번째 배열과 나머지들의 각각 최대공약수를 구하고 각각의 배열을 그 값으로 나눠준다.\n",
    "n = int(input())\n",
    "arr = [0 for row in range(n)]\n",
    "arr = input().split(\" \")\n",
    "\n",
    "for i in range(1,n) :\n",
    "    a = int(arr[0])\n",
    "    b = int(arr[i])\n",
    "    while True :\n",
    "        min_num = a % b\n",
    "        if min_num == 0:\n",
    "            result = str(int(int(arr[0])/b))\n",
    "            result += \"/\"\n",
    "            result += str(int(int(arr[i])/b))\n",
    "            print(result)\n",
    "            break\n",
    "        else :\n",
    "            a = b\n",
    "            b = min_num"
   ]
  }
 ],
 "metadata": {
  "kernelspec": {
   "display_name": "Python 3",
   "language": "python",
   "name": "python3"
  },
  "language_info": {
   "codemirror_mode": {
    "name": "ipython",
    "version": 3
   },
   "file_extension": ".py",
   "mimetype": "text/x-python",
   "name": "python",
   "nbconvert_exporter": "python",
   "pygments_lexer": "ipython3",
   "version": "3.6.1"
  }
 },
 "nbformat": 4,
 "nbformat_minor": 2
}
