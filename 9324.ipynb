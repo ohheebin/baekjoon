{
 "cells": [
  {
   "cell_type": "code",
   "execution_count": null,
   "metadata": {
    "collapsed": true
   },
   "outputs": [],
   "source": [
    "n = int(input())\n",
    "result = [\"\" for row in range(n)]\n",
    "for i in range(n):\n",
    "    st = input()\n",
    "    arr = [0 for row in range(26)]\n",
    "    temp = 0\n",
    "    check = True\n",
    "    for j in range(len(st)):\n",
    "        #아스키코드를 확인해서 그 배열의 값이 3 이면 false로 바꾸고 그 다음 문자와 비교해서 같으면 다시 True로\n",
    "        #다르면 FAKE 출력\n",
    "        ch = ord(st[j])\n",
    "        if check == True :\n",
    "            arr[ch-65] += 1\n",
    "            if arr[ch-65] == 3:\n",
    "                arr[ch-65] = 0\n",
    "                temp = ch\n",
    "                check = False\n",
    "        elif check == False:\n",
    "            if temp == ch :\n",
    "                check = True\n",
    "            else :\n",
    "                break    \n",
    "    if check == True :\n",
    "        result[i] = \"OK\"\n",
    "    else:\n",
    "        result[i] = \"FAKE\"\n",
    "        \n",
    "for i in range(n):\n",
    "    print(result[i])\n"
   ]
  }
 ],
 "metadata": {
  "kernelspec": {
   "display_name": "Python 3",
   "language": "python",
   "name": "python3"
  },
  "language_info": {
   "codemirror_mode": {
    "name": "ipython",
    "version": 3
   },
   "file_extension": ".py",
   "mimetype": "text/x-python",
   "name": "python",
   "nbconvert_exporter": "python",
   "pygments_lexer": "ipython3",
   "version": "3.6.1"
  }
 },
 "nbformat": 4,
 "nbformat_minor": 2
}
