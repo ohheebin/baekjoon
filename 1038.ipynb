{
 "cells": [
  {
   "cell_type": "code",
   "execution_count": null,
   "metadata": {
    "collapsed": true
   },
   "outputs": [],
   "source": [
    "#배열을 이용한 풀이 \n",
    "#만약 앞의 배열 값이 더 작다고 9가 아니라면 그 값을 하나 증가시켜준다. 그리고 9라면 앞의 배열 값을 1증가 시키고 그 배열의 값은 0으로 둔다.\n",
    "#그리고 그 뒤의 값들을 모두 0으로 만들어 주고 for문을 끝마친다.\n",
    "#감소하는 수인 경우 마지막 배열의 값을 1증가시키고 count를 1 증가 시켜준다.\n",
    "m = int(input())\n",
    "count = 0\n",
    "result = 0\n",
    "arr = [0 for i in range(10)]\n",
    "if(m == 0):\n",
    "    print(0)\n",
    "else:\n",
    "    while count != m :\n",
    "        if m > 1022:\n",
    "            print(-1)\n",
    "            break\n",
    "        if count < 9:\n",
    "            count += 1\n",
    "            arr[9] += 1\n",
    "            result = 8\n",
    "        else :\n",
    "            for i in range(result,9):\n",
    "                if arr[i] <= arr[i+1]:\n",
    "                    if arr[i] == 9 :\n",
    "                        arr[i - 1] += 1\n",
    "                        arr[i] = 0\n",
    "                        result -= 1\n",
    "                    else :\n",
    "                        arr[i] += 1\n",
    "                    for j in range(i,9):\n",
    "                        arr[j+1] = 0\n",
    "                    break;\n",
    "                else:\n",
    "                    if i == 8:\n",
    "                        count += 1\n",
    "                        if count != m :\n",
    "                            arr[9] += 1\n",
    "    \n",
    "    if m <= 1022:\n",
    "        print(int(''.join(str(x) for x in arr))) "
   ]
  }
 ],
 "metadata": {
  "kernelspec": {
   "display_name": "Python 3",
   "language": "python",
   "name": "python3"
  },
  "language_info": {
   "codemirror_mode": {
    "name": "ipython",
    "version": 3
   },
   "file_extension": ".py",
   "mimetype": "text/x-python",
   "name": "python",
   "nbconvert_exporter": "python",
   "pygments_lexer": "ipython3",
   "version": "3.6.1"
  }
 },
 "nbformat": 4,
 "nbformat_minor": 2
}
