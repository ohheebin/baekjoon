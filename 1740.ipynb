{
 "cells": [
  {
   "cell_type": "code",
   "execution_count": null,
   "metadata": {
    "collapsed": true
   },
   "outputs": [],
   "source": [
    "x = int(input())\n",
    "k = 0\n",
    "i = 1\n",
    "#각 3의 거듭제곱의 크기 순서가 2의 거듭제곱의 자리에 있다.\n",
    "#그렇기에 2의 거듭제급을 통해 크거나 같아지는 자릿수를 찾아낸다\n",
    "while True :\n",
    "    if x < i :\n",
    "        k -= 1\n",
    "        i /= 2\n",
    "        break\n",
    "    elif x == i :\n",
    "        break\n",
    "    i *= 2\n",
    "    k += 1\n",
    "result = 0\n",
    "#찾아낸 2의 거듭제곱 자릿수를 통해 3의 거듭제곱을 더해간다\n",
    "while True :\n",
    "    if x == 0 :\n",
    "        break\n",
    "    if x >= i :\n",
    "        x -= i\n",
    "        y = 1\n",
    "        for j in range(k):\n",
    "            y *= 3\n",
    "        result += y\n",
    "    i /= 2\n",
    "    k -= 1\n",
    "print(result)"
   ]
  }
 ],
 "metadata": {
  "kernelspec": {
   "display_name": "Python 3",
   "language": "python",
   "name": "python3"
  },
  "language_info": {
   "codemirror_mode": {
    "name": "ipython",
    "version": 3
   },
   "file_extension": ".py",
   "mimetype": "text/x-python",
   "name": "python",
   "nbconvert_exporter": "python",
   "pygments_lexer": "ipython3",
   "version": "3.6.1"
  }
 },
 "nbformat": 4,
 "nbformat_minor": 2
}
