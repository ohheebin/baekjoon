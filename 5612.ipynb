{
 "cells": [
  {
   "cell_type": "code",
   "execution_count": null,
   "metadata": {
    "collapsed": true
   },
   "outputs": [],
   "source": [
    "n = int(input())\n",
    "m = int(input())\n",
    "check = False\n",
    "max_num = 0\n",
    "for i in range(n):\n",
    "    x , y = input().split(\" \")\n",
    "    in_car = int(x) #터널에 진입한 차량\n",
    "    out_car = int(y) #터널에서 나간 차량\n",
    "    \n",
    "    m = m + in_car - out_car # 터널에 존재하는 차량 수 + 진입한 차량 - 나간 차량\n",
    "    if check == False :\n",
    "        if m < 0 :\n",
    "            check = True\n",
    "        else :\n",
    "            if max_num < m :\n",
    "                max_num = m\n",
    "\n",
    "if check == True :\n",
    "    print(0)\n",
    "else:\n",
    "    print(max_num)"
   ]
  }
 ],
 "metadata": {
  "kernelspec": {
   "display_name": "Python 3",
   "language": "python",
   "name": "python3"
  },
  "language_info": {
   "codemirror_mode": {
    "name": "ipython",
    "version": 3
   },
   "file_extension": ".py",
   "mimetype": "text/x-python",
   "name": "python",
   "nbconvert_exporter": "python",
   "pygments_lexer": "ipython3",
   "version": "3.6.1"
  }
 },
 "nbformat": 4,
 "nbformat_minor": 2
}
