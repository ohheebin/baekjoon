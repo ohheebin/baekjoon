{
 "cells": [
  {
   "cell_type": "code",
   "execution_count": 79,
   "metadata": {},
   "outputs": [
    {
     "name": "stdout",
     "output_type": "stream",
     "text": [
      "10000 3233\n",
      "0\n"
     ]
    }
   ],
   "source": [
    "n, m = input().split(\" \")\n",
    "x = 1\n",
    "y = 1\n",
    "    \n",
    "int_n = int(n)\n",
    "int_m = int(m)\n",
    "for i in range(1,int(m)+1):\n",
    "    x = x * int_n\n",
    "    int_n = int_n - 1\n",
    "    y= y * i\n",
    "    x = x % 1000000007\n",
    "    y = y % 1000000007\n",
    "        \n",
    "check = int(x//y)        \n",
    "print(check)"
   ]
  },
  {
   "cell_type": "code",
   "execution_count": null,
   "metadata": {
    "collapsed": true
   },
   "outputs": [],
   "source": []
  }
 ],
 "metadata": {
  "kernelspec": {
   "display_name": "Python 3",
   "language": "python",
   "name": "python3"
  },
  "language_info": {
   "codemirror_mode": {
    "name": "ipython",
    "version": 3
   },
   "file_extension": ".py",
   "mimetype": "text/x-python",
   "name": "python",
   "nbconvert_exporter": "python",
   "pygments_lexer": "ipython3",
   "version": "3.6.1"
  }
 },
 "nbformat": 4,
 "nbformat_minor": 2
}
