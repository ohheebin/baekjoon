{
 "cells": [
  {
   "cell_type": "code",
   "execution_count": 45,
   "metadata": {},
   "outputs": [
    {
     "name": "stdout",
     "output_type": "stream",
     "text": [
      "1\n",
      "0\n"
     ]
    }
   ],
   "source": [
    "n = int(input())\n",
    "x = 1\n",
    "first = -1\n",
    "second = 0\n",
    "check = 0\n",
    "count = 0\n",
    "\n",
    "for i in range(1,n+1):\n",
    "    x = x * i\n",
    "    \n",
    "for i in range(0,len(str(x))):\n",
    "    if first == -1 :\n",
    "        check = int(str(x)[-1:])\n",
    "    else :\n",
    "        check = int(str(x)[first:second])\n",
    "    first = first - 1\n",
    "    second = second - 1\n",
    "    \n",
    "    if check == 0 :\n",
    "        count = count + 1\n",
    "    else :\n",
    "        break\n",
    "print(count)"
   ]
  },
  {
   "cell_type": "markdown",
   "metadata": {},
   "source": [
    "2407 조합"
   ]
  },
  {
   "cell_type": "code",
   "execution_count": 61,
   "metadata": {},
   "outputs": [
    {
     "name": "stdout",
     "output_type": "stream",
     "text": [
      "5 2\n",
      "10\n"
     ]
    }
   ],
   "source": [
    "n , m = input().split(\" \")\n",
    "\n",
    "int_n = int(n)\n",
    "int_m = int(m)\n",
    "\n",
    "x = 1\n",
    "y = 1\n",
    "for i in range(1,int_m + 1):\n",
    "    x = x * int_n\n",
    "    y = y * i\n",
    "    int_n = int_n - 1\n",
    "    \n",
    "print(int(x//y))"
   ]
  },
  {
   "cell_type": "code",
   "execution_count": null,
   "metadata": {},
   "outputs": [],
   "source": [
    "while True:\n",
    "    n , m = input().split(\" \")\n",
    "    if int(n) == 0 and int(m) == 0:\n",
    "        break\n",
    "    int_n = int(n)\n",
    "    int_m = int(m)\n",
    "\n",
    "    x = 1\n",
    "    y = 1\n",
    "    check = 1\n",
    "    for i in range(1,int_m + 1):\n",
    "        x = int_n / i\n",
    "        int_n = int_n - 1\n",
    "        check = check * x\n",
    "    \n",
    "    print(int(check))"
   ]
  },
  {
   "cell_type": "code",
   "execution_count": 67,
   "metadata": {},
   "outputs": [
    {
     "name": "stdout",
     "output_type": "stream",
     "text": [
      "4\n",
      "8\n",
      "16\n",
      "32\n",
      "64\n",
      "128\n",
      "256\n",
      "512\n",
      "1024\n",
      "2048\n",
      "4096\n",
      "8192\n",
      "16384\n",
      "32768\n",
      "65536\n",
      "131072\n",
      "262144\n",
      "524288\n",
      "1048576\n",
      "2097152\n",
      "4194304\n",
      "8388608\n",
      "16777216\n",
      "33554432\n",
      "67108864\n",
      "134217728\n",
      "268435456\n",
      "536870912\n",
      "1073741824\n",
      "2147483648\n",
      "4294967296\n"
     ]
    }
   ],
   "source": [
    "x = 2\n",
    "for i in range(0,31):\n",
    "    x = x * 2\n",
    "    print(x)"
   ]
  },
  {
   "cell_type": "code",
   "execution_count": null,
   "metadata": {
    "collapsed": true
   },
   "outputs": [],
   "source": []
  }
 ],
 "metadata": {
  "kernelspec": {
   "display_name": "Python 3",
   "language": "python",
   "name": "python3"
  },
  "language_info": {
   "codemirror_mode": {
    "name": "ipython",
    "version": 3
   },
   "file_extension": ".py",
   "mimetype": "text/x-python",
   "name": "python",
   "nbconvert_exporter": "python",
   "pygments_lexer": "ipython3",
   "version": "3.6.1"
  }
 },
 "nbformat": 4,
 "nbformat_minor": 2
}
