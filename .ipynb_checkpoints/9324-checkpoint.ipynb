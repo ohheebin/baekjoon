{
 "cells": [
  {
   "cell_type": "code",
   "execution_count": null,
   "metadata": {
    "collapsed": true
   },
   "outputs": [],
   "source": [
    "t = int(input())\n",
    "build = [[0 for col in range(t)] for row in range(t)]\n",
    "rank = [1 for i in range(t)]\n",
    "\n",
    "for i in range(t) :\n",
    "    x , y = input().split(\" \")\n",
    "    build[i][0] = int(x)\n",
    "    build[i][1] = int(y)\n",
    "    \n",
    "for i in range(t) :\n",
    "    for j in range(t) :\n",
    "        if i != j :\n",
    "            if build[i][0] < build[j][0] and build[i][1] < build[j][1] :\n",
    "                rank[i] += 1\n",
    "\n",
    "print(' '.join(str(x) for x in rank))"
   ]
  }
 ],
 "metadata": {
  "kernelspec": {
   "display_name": "Python 3",
   "language": "python",
   "name": "python3"
  },
  "language_info": {
   "codemirror_mode": {
    "name": "ipython",
    "version": 3
   },
   "file_extension": ".py",
   "mimetype": "text/x-python",
   "name": "python",
   "nbconvert_exporter": "python",
   "pygments_lexer": "ipython3",
   "version": "3.6.1"
  }
 },
 "nbformat": 4,
 "nbformat_minor": 2
}
